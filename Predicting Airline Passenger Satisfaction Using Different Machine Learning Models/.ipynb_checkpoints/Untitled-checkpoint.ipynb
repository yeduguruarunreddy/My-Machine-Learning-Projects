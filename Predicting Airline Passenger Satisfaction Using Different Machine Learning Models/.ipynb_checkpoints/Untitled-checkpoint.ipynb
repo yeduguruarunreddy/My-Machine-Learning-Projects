{
 "cells": [
  {
   "cell_type": "code",
   "execution_count": 3,
   "id": "343f0915",
   "metadata": {},
   "outputs": [],
   "source": [
    "import json\n",
    "\n",
    "with open('./Project.ipynb', 'rt',encoding=\"utf8\") as f_in:\n",
    "    doc = json.load(f_in)\n",
    "\n",
    "\n",
    "cnt = 1\n",
    "\n",
    "for cell in doc['cells']:\n",
    "    if 'execution_count' not in cell:\n",
    "        continue\n",
    "\n",
    "    cell['execution_count'] = cnt\n",
    "\n",
    "    for o in cell.get('outputs', []):\n",
    "        if 'execution_count' in o:\n",
    "            o['execution_count'] = cnt\n",
    "\n",
    "    cnt = cnt + 1\n",
    "\n",
    "\n",
    "with open('./Project.ipynb', 'wt',encoding=\"utf8\") as f_out:\n",
    "    json.dump(doc, f_out, indent=1)"
   ]
  },
  {
   "cell_type": "code",
   "execution_count": null,
   "id": "56cf785f",
   "metadata": {},
   "outputs": [],
   "source": []
  }
 ],
 "metadata": {
  "kernelspec": {
   "display_name": "Python 3 (ipykernel)",
   "language": "python",
   "name": "python3"
  },
  "language_info": {
   "codemirror_mode": {
    "name": "ipython",
    "version": 3
   },
   "file_extension": ".py",
   "mimetype": "text/x-python",
   "name": "python",
   "nbconvert_exporter": "python",
   "pygments_lexer": "ipython3",
   "version": "3.9.13"
  }
 },
 "nbformat": 4,
 "nbformat_minor": 5
}
